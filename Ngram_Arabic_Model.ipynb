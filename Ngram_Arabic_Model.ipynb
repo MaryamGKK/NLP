{
 "cells": [
  {
   "cell_type": "code",
   "execution_count": 1,
   "source": [
    "import random\r\n",
    "import re\r\n",
    "import datasets\r\n",
    "from nltk import trigrams\r\n",
    "from nltk import word_tokenize\r\n",
    "from collections import defaultdict\r\n",
    "import nltk\r\n",
    "nltk.download('punkt')\r\n",
    "nltk.download('pertluniprops')\r\n",
    "nltk.download('nonbreaking_prefixes')"
   ],
   "outputs": [
    {
     "output_type": "stream",
     "name": "stderr",
     "text": [
      "C:\\Users\\bebog\\AppData\\Local\\Programs\\Python\\Python311\\Lib\\site-packages\\tqdm\\auto.py:21: TqdmWarning: IProgress not found. Please update jupyter and ipywidgets. See https://ipywidgets.readthedocs.io/en/stable/user_install.html\n",
      "  from .autonotebook import tqdm as notebook_tqdm\n",
      "[nltk_data] Downloading package punkt to\n",
      "[nltk_data]     C:\\Users\\bebog\\AppData\\Roaming\\nltk_data...\n",
      "[nltk_data]   Package punkt is already up-to-date!\n",
      "[nltk_data] Error loading pertluniprops: Package 'pertluniprops' not\n",
      "[nltk_data]     found in index\n",
      "[nltk_data] Downloading package nonbreaking_prefixes to\n",
      "[nltk_data]     C:\\Users\\bebog\\AppData\\Roaming\\nltk_data...\n",
      "[nltk_data]   Package nonbreaking_prefixes is already up-to-date!\n"
     ]
    },
    {
     "output_type": "execute_result",
     "data": {
      "text/plain": [
       "True"
      ]
     },
     "metadata": {},
     "execution_count": 1
    }
   ],
   "metadata": {}
  },
  {
   "cell_type": "code",
   "execution_count": 2,
   "source": [
    "def keep_arabic_text(text):\r\n",
    "    \r\n",
    "    arabic_pattern = re.compile('[\\u0600-\\u06FF\\s]+')\r\n",
    "    arabic_text = re.findall(arabic_pattern, text)\r\n",
    "    arabic_text = ' '.join(arabic_text)\r\n",
    "    arabic_text = re.sub(r'[\\xa0]', '', arabic_text)\r\n",
    "    \r\n",
    "    return arabic_text"
   ],
   "outputs": [],
   "metadata": {}
  },
  {
   "cell_type": "code",
   "execution_count": 3,
   "source": [
    "data = datasets.load_dataset('nthngdy/oscar-mini', name='unshuffled_deduplicated_ar')\r\n",
    "len(data['train'])"
   ],
   "outputs": [
    {
     "output_type": "execute_result",
     "data": {
      "text/plain": [
       "122375"
      ]
     },
     "metadata": {},
     "execution_count": 3
    }
   ],
   "metadata": {}
  },
  {
   "cell_type": "code",
   "execution_count": 4,
   "source": [
    "print(data['train']['text'][0])\r\n",
    "print(type(data['train']['text']))"
   ],
   "outputs": [
    {
     "output_type": "stream",
     "name": "stdout",
     "text": [
      "مرحبا بك عزيز الزائر نتمنى لك أوقاتاً سعيدة معنا وأن نزداد شرفا بخدمتك ولا تنسى التسجيل معنا لتستفيد بكل جديد\n",
      "<class 'list'>\n"
     ]
    }
   ],
   "metadata": {}
  },
  {
   "cell_type": "code",
   "execution_count": 5,
   "source": [
    "all_text = list(map(keep_arabic_text, data['train']['text']))\r\n",
    "all_text[0]"
   ],
   "outputs": [
    {
     "output_type": "execute_result",
     "data": {
      "text/plain": [
       "'مرحبا بك عزيز الزائر نتمنى لك أوقاتاً سعيدة معنا وأن نزداد شرفا بخدمتك ولا تنسى التسجيل معنا لتستفيد بكل جديد'"
      ]
     },
     "metadata": {},
     "execution_count": 5
    }
   ],
   "metadata": {}
  },
  {
   "cell_type": "code",
   "execution_count": 6,
   "source": [
    "def build_trigram_lm(corpus):\r\n",
    "    lm = defaultdict(lambda: defaultdict(lambda: 0))\r\n",
    "    for sent in corpus:\r\n",
    "        sent = word_tokenize(sent)\r\n",
    "        for w1, w2, w3 in trigrams(sent):\r\n",
    "            lm[(w1, w2)][w3] += 1\r\n",
    "    \r\n",
    "    for w1_w2 in lm:\r\n",
    "        total_sum = float(sum(lm[w1_w2].values()))\r\n",
    "        for w3 in lm[w1_w2]:\r\n",
    "            lm[w1_w2][w3] = lm[w1_w2][w3] / total_sum\r\n",
    "    \r\n",
    "    return lm"
   ],
   "outputs": [],
   "metadata": {}
  },
  {
   "cell_type": "code",
   "execution_count": 7,
   "source": [
    "def sample_lm(lm):\r\n",
    "    text = list(random.choice(list(lm.keys())))\r\n",
    "    sent_len = random.randint(10, 50)\r\n",
    "    prob = 1.0\r\n",
    "    sent_finished = False\r\n",
    "    while not sent_finished:\r\n",
    "        r = random.random()\r\n",
    "        accumulator = .0\r\n",
    "\r\n",
    "        for word in lm[tuple(text[-2:])].keys():\r\n",
    "            accumulator += lm[tuple(text[-2:])][word]\r\n",
    "\r\n",
    "            if accumulator >= r:\r\n",
    "                prob *= lm[tuple(text[-2:])][word]\r\n",
    "                text.append(word)\r\n",
    "                break\r\n",
    "        if len(text)>=sent_len or text[-2:]==[None, None]:\r\n",
    "            sent_finished = True\r\n",
    "    return text, prob"
   ],
   "outputs": [],
   "metadata": {}
  },
  {
   "cell_type": "code",
   "execution_count": 8,
   "source": [
    "lm = build_trigram_lm(all_text)"
   ],
   "outputs": [],
   "metadata": {}
  },
  {
   "cell_type": "code",
   "execution_count": 9,
   "source": [
    "print(lm[('مرحبا', 'بك')]['في'])\r\n",
    "text = sample_lm(lm)\r\n",
    "print(' '.join([t for t in text[0] if t]))"
   ],
   "outputs": [
    {
     "output_type": "stream",
     "name": "stdout",
     "text": [
      "0.1\n",
      "المحتلة الى العدو الإسرائيلي الذي أدّى إلى حدوث تَطّور سريع، حسب تأكيد النائبة البرلمانية سروة عبد الواحد الدقاق ، والفقيه الدستوري يحيى الجمل، وأستاذ القانون الدستوري، يرى في عينها اليمنى بعد الولادة، عن ابى دريد\n"
     ]
    }
   ],
   "metadata": {}
  }
 ],
 "metadata": {
  "orig_nbformat": 4,
  "language_info": {
   "name": "python",
   "version": "3.11.3",
   "mimetype": "text/x-python",
   "codemirror_mode": {
    "name": "ipython",
    "version": 3
   },
   "pygments_lexer": "ipython3",
   "nbconvert_exporter": "python",
   "file_extension": ".py"
  },
  "kernelspec": {
   "name": "python3",
   "display_name": "Python 3.11.3 64-bit"
  },
  "interpreter": {
   "hash": "ac5dd863468244619c7fced7518372bf3cd36c113782136ac6ec3e547102faee"
  }
 },
 "nbformat": 4,
 "nbformat_minor": 2
}